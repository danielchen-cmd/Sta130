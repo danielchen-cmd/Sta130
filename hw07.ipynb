{
 "cells": [
  {
   "cell_type": "markdown",
   "id": "cf1a528c",
   "metadata": {},
   "source": [
    "4.Very strong evidence against the null hypothesis means that it is likely that each individual variable correlates with the dependent variable, but it doesn't guarantee the the combined model predicts the data well."
   ]
  },
  {
   "cell_type": "markdown",
   "id": "03f20f6e",
   "metadata": {},
   "source": [
    "7.Model 5 adds more variables to the model like Generation, Type1 and Type 2. We also use an additive model unlike model 4, which reduces overfitting and multicollinearity. Model 6 focuses more on the most important variables like attack, speed, sp def and sp attack. It also has indicator variables for types and generations. Model 7 reintroduces the interaction between the significant variables to capture how they influence Hp together. The final model standizes the continuous variables."
   ]
  },
  {
   "cell_type": "markdown",
   "id": "4a831c51",
   "metadata": {},
   "source": [
    "9.The code fits models on subsets of different generations of pokemon, excluding gen 6. Then it calculates r^2 for both the data it was trained on and data we set aside to test the model on. Then it compares which models work the best"
   ]
  },
  {
   "cell_type": "markdown",
   "id": "fd2d11f1",
   "metadata": {},
   "source": [
    "https://chatgpt.com/share/6736d586-71f8-8013-bb4c-93fb4ae41f54\n",
    "Sure! Here's a summary of our conversation:\n",
    "\n",
    "Regression Models: We discussed various regression models applied to Pokémon data, focusing on predicting HP (hit points) using factors like Attack, Defense, Speed, Legendary, and others. The models gradually evolved by adding more variables and interactions, as well as applying centering and scaling techniques to improve performance and reduce multicollinearity.\n",
    "\n",
    "Understanding Model Changes: We reviewed how Model 5 was an additive model, meaning it added each variable independently without interactions. Model 6 extended Model 5 by adding categorical variable effects for specific types and generations, while Model 7 incorporated interactions between variables for more complexity. Model 7 with centering and scaling standardized continuous predictors to improve the model’s performance and ensure a balanced contribution from all variables.\n",
    "\n",
    "Model Evaluation: We examined how different subsets of the data (e.g., specific Pokémon generations) were used to evaluate the models. The code used to fit the models calculates both in-sample and out-of-sample R-squared values to assess model accuracy and generalization across different generations of Pokémon.\n",
    "\n",
    "Overall, the conversation explored the development and evaluation of regression models to predict Pokémon HP, focusing on the impact of different variables, interactions, and data subsets."
   ]
  }
 ],
 "metadata": {
  "kernelspec": {
   "display_name": "Python 3 (ipykernel)",
   "language": "python",
   "name": "python3"
  },
  "language_info": {
   "codemirror_mode": {
    "name": "ipython",
    "version": 3
   },
   "file_extension": ".py",
   "mimetype": "text/x-python",
   "name": "python",
   "nbconvert_exporter": "python",
   "pygments_lexer": "ipython3",
   "version": "3.11.6"
  }
 },
 "nbformat": 4,
 "nbformat_minor": 5
}
